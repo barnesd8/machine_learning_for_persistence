{
 "cells": [
  {
   "cell_type": "markdown",
   "metadata": {},
   "source": [
    "### Machine Learning Methods - mpeg7 dataset"
   ]
  },
  {
   "cell_type": "markdown",
   "metadata": {},
   "source": [
    "import libraries"
   ]
  },
  {
   "cell_type": "code",
   "execution_count": 43,
   "metadata": {},
   "outputs": [],
   "source": [
    "import numpy as np\n",
    "import itertools\n",
    "import os\n",
    "import hdbscan\n",
    "import sys\n",
    "import time\n",
    "import pandas as pd\n",
    "import itertools\n",
    "import pickle\n",
    "\n",
    "from copy import deepcopy\n",
    "from ripser import ripser\n",
    "from persim import plot_diagrams\n",
    "from matplotlib.patches import Ellipse\n",
    "from numba import jit, njit, prange\n",
    "from sklearn.model_selection import train_test_split, cross_val_score\n",
    "from sklearn.linear_model import RidgeClassifier, LogisticRegression\n",
    "from sklearn.preprocessing import PolynomialFeatures\n",
    "from sklearn.svm import LinearSVC, SVC, NuSVC\n",
    "from sklearn.kernel_ridge import KernelRidge\n",
    "from sklearn import mixture\n",
    "\n",
    "import matplotlib.pyplot as plt\n",
    "\n",
    "from gudhi.representations.vector_methods import Landscape\n",
    "\n",
    "from persim import PersImage\n",
    "from persim import heat\n",
    "\n",
    "import time\n",
    "\n",
    "import seaborn as sns\n",
    "\n",
    "sys.path.append('../persistence_methods')\n",
    "import ATS\n",
    "from persistence_methods_timings import tent_features\n",
    "from persistence_methods_timings import carlsson_coordinates\n",
    "from persistence_methods_timings import adaptive_features\n",
    "from persistence_methods_timings import landscape_features\n",
    "from persistence_methods_timings import persistence_image_features\n",
    "from persistence_methods_timings import fast_kernel_features"
   ]
  },
  {
   "cell_type": "markdown",
   "metadata": {},
   "source": [
    "import data"
   ]
  },
  {
   "cell_type": "code",
   "execution_count": 2,
   "metadata": {},
   "outputs": [],
   "source": [
    "Data = pickle.load(open(\"persistence/diagrams.pickle\", \"rb\"))\n",
    "X_dgm0 = [Data['persistence_outline'][d][0] for d in range(0,len(Data))]\n",
    "X_dgm1 = [Data['persistence_outline'][d][1] for d in range(0,len(Data))]\n",
    "\n",
    "# We need to perturbate H_0 to use CDER.\n",
    "for h0 in X_dgm0:\n",
    "    h0[:,1][h0[:,1]==np.inf] = 2 # Changge all inf values in H_0 for 10.\n",
    "\n",
    "labels = [Data['Name'][d] for d in range(0,len(Data))]\n",
    "labels = [d.split('-',1)[0] for d in labels]\n",
    "labels = pd.DataFrame(labels)\n",
    "label_names = labels.copy()\n",
    "\n",
    "label_unique = pd.DataFrame(labels)\n",
    "label_unique = label_unique[0].unique()\n",
    "\n",
    "i=0\n",
    "for l in label_unique:\n",
    "    labels[labels == l]=i\n",
    "    i += 1\n",
    "\n",
    "labels = labels[0].tolist()\n",
    "label_names = label_names[0].tolist()"
   ]
  },
  {
   "cell_type": "markdown",
   "metadata": {},
   "source": [
    "### Timings Dataframe"
   ]
  },
  {
   "cell_type": "code",
   "execution_count": 22,
   "metadata": {},
   "outputs": [],
   "source": [
    "method = []\n",
    "number_of_diagrams = []\n",
    "timing = []\n",
    "p1 = []\n",
    "p2 = []\n"
   ]
  },
  {
   "cell_type": "markdown",
   "metadata": {},
   "source": [
    "#### Timings"
   ]
  },
  {
   "cell_type": "code",
   "execution_count": 23,
   "metadata": {},
   "outputs": [
    {
     "name": "stdout",
     "output_type": "stream",
     "text": [
      "Begin CDER...\n"
     ]
    },
    {
     "name": "stderr",
     "output_type": "stream",
     "text": [
      "WARNING:root:point 298 has multiplicity 3361.\n",
      "WARNING:root:point 801 has multiplicity 7.\n",
      "WARNING:root:Bad Gaussian [1.26297737 0.        ] at 298.  Lost 0.00023864286704566862*1.0000000000000002\n",
      "WARNING:root:Bad Gaussian [1.65100439 0.        ] at 298.  Lost 0.00023864286704566862*1.0000000000000002\n",
      "WARNING:root:Bad Gaussian [0.20659876 0.        ] at 298.  Lost 0.00023864286704566862*1.0\n",
      "WARNING:root:Bad Gaussian [1.3808147 0.       ] at 298.  Lost 0.00023864286704566862*1.0\n",
      "WARNING:root:Bad Gaussian [1.14016665 0.        ] at 298.  Lost 0.00023864286704566862*1.0\n",
      "WARNING:root:Bad Gaussian [0.20010536 0.        ] at 298.  Lost 0.00023864286704566862*1.0\n",
      "WARNING:root:Bad Gaussian [0.88535361 0.        ] at 298.  Lost 0.00023864286704566862*1.0\n",
      "WARNING:root:Bad Gaussian [1.04010921 0.        ] at 298.  Lost 0.00023864286704566862*1.0\n",
      "WARNING:root:Bad Gaussian [1.18252923 0.        ] at 298.  Lost 0.00023864286704566862*1.0\n",
      "WARNING:root:Bad Gaussian [0.16217007 0.        ] at 298.  Lost 0.00023864286704566862*1.0\n",
      "WARNING:root:Bad Gaussian [0.20119736 0.        ] at 298.  Lost 0.00023864286704566862*1.0\n",
      "WARNING:root:Bad Gaussian [0.19137429 0.        ] at 298.  Lost 0.00023864286704566862*1.0\n",
      "WARNING:root:Bad Gaussian [0.18720539 0.        ] at 298.  Lost 0.00023864286704566862*1.0\n",
      "WARNING:root:Bad Gaussian [1.68163232 0.        ] at 298.  Lost 0.00023864286704566862*1.0\n",
      "WARNING:root:Bad Gaussian [1.40132675 0.        ] at 298.  Lost 0.00023864286704566862*0.9999999999999999\n",
      "WARNING:root:Bad Gaussian [1.42535167 0.        ] at 298.  Lost 0.00023864286704566862*0.9999999999999999\n",
      "WARNING:root:Bad Gaussian [0.83044351 0.        ] at 298.  Lost 0.00023864286704566862*0.9999999999999999\n",
      "WARNING:root:Bad Gaussian [1.27047138 0.        ] at 298.  Lost 0.00023864286704566862*0.9999999999999999\n",
      "WARNING:root:Bad Gaussian [1.2081833 0.       ] at 298.  Lost 0.00023864286704566862*0.9999999999999998\n",
      "WARNING:root:Bad Gaussian [1.19469791 0.        ] at 298.  Lost 0.00023864286704566862*0.9999999999999998\n",
      "WARNING:root:Bad Gaussian [1.67627064 0.        ] at 298.  Lost 0.00023864286704566862*0.9999999999999998\n",
      "WARNING:root:Bad Gaussian [1.33229704 0.        ] at 298.  Lost 0.00023864286704566862*0.9991273996509601\n",
      "WARNING:root:Bad Gaussian [1.63187536 0.        ] at 298.  Lost 0.00023864286704566862*0.9991158267020337\n",
      "WARNING:root:Bad Gaussian [1.87556968 0.        ] at 298.  Lost 0.00023864286704566862*0.9983079526226736\n",
      "WARNING:root:Bad Gaussian [1.76074119 0.        ] at 298.  Lost 0.00023864286704566862*0.9982638888888888\n",
      "WARNING:root:Bad Gaussian [1.79209742 0.        ] at 298.  Lost 0.00023864286704566862*0.9981922398589065\n",
      "WARNING:root:Bad Gaussian [2.08110476 0.        ] at 298.  Lost 0.00023864286704566862*0.9976014812704742\n",
      "WARNING:root:Bad Gaussian [1.64665639 0.        ] at 298.  Lost 0.00023864286704566862*0.9974358974358976\n",
      "WARNING:root:Bad Gaussian [1.56433885 0.        ] at 298.  Lost 0.00023864286704566862*0.9968178202068416\n",
      "WARNING:root:Bad Gaussian [1.78096409 0.        ] at 298.  Lost 0.00023864286704566862*0.9966222015818921\n",
      "WARNING:root:Bad Gaussian [1.75804821 0.        ] at 298.  Lost 0.00023864286704566862*0.9965897395642541\n",
      "WARNING:root:Bad Gaussian [1.90740033 0.        ] at 298.  Lost 0.00023864286704566862*0.9959160532926696\n",
      "WARNING:root:Bad Gaussian [1.84872085 0.        ] at 298.  Lost 0.00023864286704566862*0.9950372208436724\n",
      "WARNING:root:Bad Gaussian [1.979625 0.      ] at 298.  Lost 0.00023864286704566862*0.9948758303071785\n",
      "WARNING:root:Bad Gaussian [1.86007221 0.        ] at 298.  Lost 0.00023864286704566862*0.9944838455476752\n",
      "WARNING:root:Bad Gaussian [2.22694504 0.        ] at 298.  Lost 0.00023864286704566862*0.9927347275377638\n",
      "WARNING:root:Bad Gaussian [1.89756399 0.        ] at 298.  Lost 0.00023864286704566862*0.9899691358024691\n",
      "WARNING:root:Bad Gaussian [1.81150882 0.        ] at 298.  Lost 0.00023864286704566862*0.9885057471264368\n",
      "WARNING:root:Bad Gaussian [2.18154525 0.        ] at 298.  Lost 0.00023864286704566862*0.9876982941065252\n",
      "WARNING:root:Bad Gaussian [2.12970272 0.        ] at 298.  Lost 0.00023864286704566862*0.987635844208048\n",
      "WARNING:root:Bad Gaussian [2.204278 0.      ] at 298.  Lost 0.00023864286704566862*0.9848205727294512\n",
      "WARNING:root:Bad Gaussian [2.20478779 0.        ] at 298.  Lost 0.00023864286704566862*0.9811293415910114\n",
      "WARNING:root:Bad Gaussian [2.14801147 0.        ] at 298.  Lost 0.00023864286704566862*0.9809594016434466\n",
      "WARNING:root:Bad Gaussian [2.22072369 0.        ] at 298.  Lost 0.00023864286704566862*0.9788414995627879\n",
      "WARNING:root:Bad Gaussian [2.19242438 0.        ] at 298.  Lost 0.00023864286704566862*0.9778375847029683\n",
      "WARNING:root:Bad Gaussian [2.17351315 0.        ] at 298.  Lost 0.00023864286704566862*0.9761167745038712\n",
      "WARNING:root:Bad Gaussian [2.29609445 0.        ] at 298.  Lost 0.00023864286704566862*0.9760839290289908\n",
      "WARNING:root:Bad Gaussian [2.01916878 0.        ] at 298.  Lost 0.00023864286704566862*0.9742353319376819\n",
      "WARNING:root:Bad Gaussian [3.77207353 0.        ] at 801.  Lost 0.2188949203674294*0.21531095764448094\n",
      "WARNING:root:Bad Gaussian [3.8115381 0.       ] at 801.  Lost 0.2188949203674294*0.20440967241702235\n",
      "WARNING:root:Bad Gaussian [3.17359327 0.        ] at 801.  Lost 0.2188949203674294*0.10408336733306134\n",
      "WARNING:root:Bad Gaussian [3.30044645 0.        ] at 801.  Lost 0.2188949203674294*0.0966646227070562\n",
      "WARNING:root:Bad Gaussian [3.94489769 0.        ] at 801.  Lost 0.2188949203674294*0.08176669957585753\n",
      "WARNING:root:Bad Gaussian [3.1501756 0.       ] at 801.  Lost 0.2188949203674294*0.07778094339118663\n",
      "WARNING:root:Bad Gaussian [3.63039442 0.        ] at 801.  Lost 0.2188949203674294*0.06872799053593043\n",
      "WARNING:root:Bad Gaussian [3.55050483 0.        ] at 801.  Lost 0.2188949203674294*0.06659953528075649\n",
      "WARNING:root:Bad Gaussian [3.13105974 0.        ] at 801.  Lost 0.2188949203674294*0.05693165791680242\n",
      "WARNING:root:Bad Gaussian [2.61261262 0.        ] at 801.  Lost 0.2188949203674294*0.05478275435613957\n",
      "WARNING:root:Bad Gaussian [2.93609138 0.        ] at 801.  Lost 0.2188949203674294*0.05462726626845249\n",
      "WARNING:root:Bad Gaussian [2.27072473 0.        ] at 801.  Lost 0.2188949203674294*0.054555715732366575\n",
      "WARNING:root:Bad Gaussian [3.07418098 0.        ] at 801.  Lost 0.2188949203674294*0.05292949490993174\n",
      "WARNING:root:Bad Gaussian [2.11266432 0.        ] at 801.  Lost 0.2188949203674294*0.04502206382606755\n",
      "WARNING:root:Bad Gaussian [1.81115213 0.        ] at 801.  Lost 0.2188949203674294*0.04245128577104392\n",
      "WARNING:root:Bad Gaussian [2.96412553 0.        ] at 801.  Lost 0.2188949203674294*0.03831063142795369\n",
      "WARNING:root:Bad Gaussian [2.64498545 0.        ] at 801.  Lost 0.2188949203674294*0.03678780297530002\n",
      "WARNING:root:Bad Gaussian [3.25422912 0.        ] at 801.  Lost 0.2188949203674294*0.034295078444014616\n",
      "WARNING:root:Bad Gaussian [3.43888575 0.        ] at 801.  Lost 0.2188949203674294*0.03411855273287144\n",
      "WARNING:root:Bad Gaussian [1.31569665 0.        ] at 801.  Lost 0.2188949203674294*0.030245526923722656\n",
      "WARNING:root:Bad Gaussian [1.44340912 0.        ] at 801.  Lost 0.2188949203674294*0.02700014647491749\n",
      "WARNING:root:Bad Gaussian [2.61342759 0.        ] at 801.  Lost 0.2188949203674294*0.02635308559312577\n",
      "WARNING:root:Bad Gaussian [2.76990209 0.        ] at 801.  Lost 0.2188949203674294*0.025764668062318193\n",
      "WARNING:root:Bad Gaussian [4.00604546 0.        ] at 38822.  Lost 0.5878004069703486*0.017685156797466586\n",
      "WARNING:root:Bad Gaussian [3.22854073 0.        ] at 38822.  Lost 0.5878004069703486*0.008538516215118908\n",
      "WARNING:root:Bad Gaussian [3.66283794 0.        ] at 38822.  Lost 0.5878004069703486*0.006355932203389831\n",
      "WARNING:root:Bad Gaussian [1.86059673 0.        ] at 38822.  Lost 0.5878004069703486*0.00357653791130186\n",
      "WARNING:root:Bad Gaussian [6.22432329 0.        ] at 38822.  Lost 0.5878004069703486*0.0028551034975017845\n",
      "WARNING:root:Bad Gaussian [0.82275369 0.        ] at 38822.  Lost 0.5878004069703486*0.00149812734082397\n",
      "WARNING:root:Bad Gaussian [0.88922702 0.        ] at 38822.  Lost 0.5878004069703486*0.0014701353432206824\n",
      "WARNING:root:Bad Gaussian [3.43292757 0.        ] at 38822.  Lost 0.5878004069703486*0.0014619883040935672\n"
     ]
    },
    {
     "name": "stderr",
     "output_type": "stream",
     "text": [
      "WARNING:root:Too few points 1 at 38822.  Lost 0.5878004069703486*0.0007092198581560284\n",
      "WARNING:root:point 18374 has multiplicity 92.\n"
     ]
    },
    {
     "name": "stdout",
     "output_type": "stream",
     "text": [
      "41.03656768798828\n",
      "Begin GMM...\n",
      "PersImage(pixels=[10, 10], spread=0.05, specs=None, kernel_type=\"gaussian\", weighting_type=\"linear\")\n",
      "PersImage(pixels=[10, 10], spread=0.5, specs=None, kernel_type=\"gaussian\", weighting_type=\"linear\")\n",
      "PersImage(pixels=[10, 10], spread=1, specs=None, kernel_type=\"gaussian\", weighting_type=\"linear\")\n",
      "Begin GMM...\n",
      "PersImage(pixels=[15, 15], spread=0.05, specs=None, kernel_type=\"gaussian\", weighting_type=\"linear\")\n",
      "PersImage(pixels=[15, 15], spread=0.5, specs=None, kernel_type=\"gaussian\", weighting_type=\"linear\")\n",
      "PersImage(pixels=[15, 15], spread=1, specs=None, kernel_type=\"gaussian\", weighting_type=\"linear\")\n",
      "Begin GMM...\n",
      "PersImage(pixels=[20, 20], spread=0.05, specs=None, kernel_type=\"gaussian\", weighting_type=\"linear\")\n",
      "PersImage(pixels=[20, 20], spread=0.5, specs=None, kernel_type=\"gaussian\", weighting_type=\"linear\")\n",
      "PersImage(pixels=[20, 20], spread=1, specs=None, kernel_type=\"gaussian\", weighting_type=\"linear\")\n",
      "Begin CDER...\n"
     ]
    },
    {
     "name": "stderr",
     "output_type": "stream",
     "text": [
      "WARNING:root:point 270 has multiplicity 2259.\n",
      "WARNING:root:point 777 has multiplicity 4.\n",
      "WARNING:root:Bad Gaussian [0.20067759 0.        ] at 270.  Lost 0.00025922833935432266*1.0\n",
      "WARNING:root:Bad Gaussian [1.68902881 0.        ] at 270.  Lost 0.00025922833935432266*1.0\n",
      "WARNING:root:Bad Gaussian [0.1849117 0.       ] at 270.  Lost 0.00025922833935432266*1.0\n",
      "WARNING:root:Bad Gaussian [1.42920395 0.        ] at 270.  Lost 0.00025922833935432266*1.0\n",
      "WARNING:root:Bad Gaussian [1.00320797 0.        ] at 270.  Lost 0.00025922833935432266*1.0\n",
      "WARNING:root:Bad Gaussian [1.70575864 0.        ] at 270.  Lost 0.00025922833935432266*1.0\n",
      "WARNING:root:Bad Gaussian [1.30326664 0.        ] at 270.  Lost 0.00025922833935432266*1.0\n",
      "WARNING:root:Bad Gaussian [1.30071436 0.        ] at 270.  Lost 0.00025922833935432266*1.0\n",
      "WARNING:root:Bad Gaussian [0.20292015 0.        ] at 270.  Lost 0.00025922833935432266*1.0\n",
      "WARNING:root:Bad Gaussian [1.15929599 0.        ] at 270.  Lost 0.00025922833935432266*1.0\n",
      "WARNING:root:Bad Gaussian [1.29100374 0.        ] at 270.  Lost 0.00025922833935432266*1.0\n",
      "WARNING:root:Bad Gaussian [1.89044265 0.        ] at 270.  Lost 0.00025922833935432266*1.0\n",
      "WARNING:root:Bad Gaussian [1.0366946 0.       ] at 270.  Lost 0.00025922833935432266*1.0\n",
      "WARNING:root:Bad Gaussian [0.19910602 0.        ] at 270.  Lost 0.00025922833935432266*1.0\n",
      "WARNING:root:Bad Gaussian [0.79598487 0.        ] at 270.  Lost 0.00025922833935432266*0.9999999999999999\n",
      "WARNING:root:Bad Gaussian [1.39609152 0.        ] at 270.  Lost 0.00025922833935432266*0.9999999999999999\n",
      "WARNING:root:Bad Gaussian [0.20450153 0.        ] at 270.  Lost 0.00025922833935432266*0.9999999999999999\n",
      "WARNING:root:Bad Gaussian [1.01475394 0.        ] at 270.  Lost 0.00025922833935432266*0.9999999999999999\n",
      "WARNING:root:Bad Gaussian [0.19204165 0.        ] at 270.  Lost 0.00025922833935432266*0.9999999999999999\n",
      "WARNING:root:Bad Gaussian [1.64245306 0.        ] at 270.  Lost 0.00025922833935432266*0.9999999999999998\n",
      "WARNING:root:Bad Gaussian [1.40886374 0.        ] at 270.  Lost 0.00025922833935432266*0.9999999999999998\n",
      "WARNING:root:Bad Gaussian [0.15575879 0.        ] at 270.  Lost 0.00025922833935432266*0.9999999999999998\n",
      "WARNING:root:Bad Gaussian [1.43083117 0.        ] at 270.  Lost 0.00025922833935432266*0.9986910994764396\n",
      "WARNING:root:Bad Gaussian [1.71981035 0.        ] at 270.  Lost 0.00025922833935432266*0.9986772486772486\n",
      "WARNING:root:Bad Gaussian [1.80893399 0.        ] at 270.  Lost 0.00025922833935432266*0.9974226804123714\n",
      "WARNING:root:Bad Gaussian [1.87269245 0.        ] at 270.  Lost 0.00025922833935432266*0.9973958333333335\n",
      "WARNING:root:Bad Gaussian [1.66584444 0.        ] at 270.  Lost 0.00025922833935432266*0.9972883597883597\n",
      "WARNING:root:Bad Gaussian [2.13287447 0.        ] at 270.  Lost 0.00025922833935432266*0.9964022219057117\n",
      "WARNING:root:Bad Gaussian [1.77496878 0.        ] at 270.  Lost 0.00025922833935432266*0.9961864352049188\n",
      "WARNING:root:Bad Gaussian [1.65211752 0.        ] at 270.  Lost 0.00025922833935432266*0.9961538461538462\n",
      "WARNING:root:Bad Gaussian [1.73919635 0.        ] at 270.  Lost 0.00025922833935432266*0.9961227196448871\n",
      "WARNING:root:Bad Gaussian [1.75892415 0.        ] at 270.  Lost 0.00025922833935432266*0.9940334128878283\n",
      "WARNING:root:Bad Gaussian [1.74262711 0.        ] at 270.  Lost 0.00025922833935432266*0.9938271604938274\n",
      "WARNING:root:Bad Gaussian [2.11376486 0.        ] at 270.  Lost 0.00025922833935432266*0.9926650366748166\n",
      "WARNING:root:Bad Gaussian [1.94492251 0.        ] at 270.  Lost 0.00025922833935432266*0.9922792950142902\n",
      "WARNING:root:Bad Gaussian [1.9770125 0.       ] at 270.  Lost 0.00025922833935432266*0.9917257683215129\n",
      "WARNING:root:Bad Gaussian [2.03224901 0.        ] at 270.  Lost 0.00025922833935432266*0.9896313364055299\n",
      "WARNING:root:Bad Gaussian [2.12600011 0.        ] at 270.  Lost 0.00025922833935432266*0.9879381752701082\n",
      "WARNING:root:Bad Gaussian [2.14020586 0.        ] at 270.  Lost 0.00025922833935432266*0.9864766964501326\n",
      "WARNING:root:Bad Gaussian [2.05816529 0.        ] at 270.  Lost 0.00025922833935432266*0.9837962962962963\n",
      "WARNING:root:Bad Gaussian [2.2192705 0.       ] at 270.  Lost 0.00025922833935432266*0.9828068870036168\n",
      "WARNING:root:Bad Gaussian [1.98624691 0.        ] at 270.  Lost 0.00025922833935432266*0.9815270935960593\n",
      "WARNING:root:Bad Gaussian [2.37471892 0.        ] at 270.  Lost 0.00025922833935432266*0.9800000000000001\n",
      "WARNING:root:Bad Gaussian [2.34133807 0.        ] at 270.  Lost 0.00025922833935432266*0.9760289360172536\n",
      "WARNING:root:Bad Gaussian [2.17478451 0.        ] at 270.  Lost 0.00025922833935432266*0.9740983204336093\n",
      "WARNING:root:Bad Gaussian [2.27493978 0.        ] at 270.  Lost 0.00025922833935432266*0.9740968649472634\n",
      "WARNING:root:Bad Gaussian [3.77052426 0.        ] at 777.  Lost 0.20919526615620787*0.21147844074063898\n",
      "WARNING:root:Bad Gaussian [3.70563836 0.        ] at 777.  Lost 0.20919526615620787*0.18006617038875106\n",
      "WARNING:root:Bad Gaussian [3.38682647 0.        ] at 777.  Lost 0.20919526615620787*0.13363423092615256\n",
      "WARNING:root:Bad Gaussian [3.29885248 0.        ] at 777.  Lost 0.20919526615620787*0.11095947562606182\n",
      "WARNING:root:Bad Gaussian [3.44555522 0.        ] at 777.  Lost 0.20919526615620787*0.10643983162759987\n",
      "WARNING:root:Bad Gaussian [4.07923175 0.        ] at 777.  Lost 0.20919526615620787*0.1021489104116223\n",
      "WARNING:root:Bad Gaussian [2.81697398 0.        ] at 777.  Lost 0.20919526615620787*0.09053547040874868\n",
      "WARNING:root:Bad Gaussian [3.08380471 0.        ] at 777.  Lost 0.20919526615620787*0.08165668580381162\n",
      "WARNING:root:Bad Gaussian [2.97529104 0.        ] at 777.  Lost 0.20919526615620787*0.07374417809120333\n",
      "WARNING:root:Bad Gaussian [2.79933074 0.        ] at 777.  Lost 0.20919526615620787*0.06128444192586097\n",
      "WARNING:root:Bad Gaussian [3.25308443 0.        ] at 777.  Lost 0.20919526615620787*0.0539367907086019\n",
      "WARNING:root:Bad Gaussian [1.93202031 0.        ] at 777.  Lost 0.20919526615620787*0.05261819894458537\n",
      "WARNING:root:Bad Gaussian [2.45981572 0.        ] at 777.  Lost 0.20919526615620787*0.05030204206701831\n",
      "WARNING:root:Bad Gaussian [3.32456608 0.        ] at 777.  Lost 0.20919526615620787*0.046728613116264785\n",
      "WARNING:root:Bad Gaussian [2.96501365 0.        ] at 777.  Lost 0.20919526615620787*0.045880614492430374\n",
      "WARNING:root:Bad Gaussian [2.73742915 0.        ] at 777.  Lost 0.20919526615620787*0.04202538047185568\n",
      "WARNING:root:Bad Gaussian [2.14531908 0.        ] at 777.  Lost 0.20919526615620787*0.04164249650875497\n",
      "WARNING:root:Bad Gaussian [1.85368547 0.        ] at 777.  Lost 0.20919526615620787*0.03981286472730464\n",
      "WARNING:root:Bad Gaussian [2.23477498 0.        ] at 777.  Lost 0.20919526615620787*0.03697691197691198\n",
      "WARNING:root:Bad Gaussian [3.10490268 0.        ] at 777.  Lost 0.20919526615620787*0.0355791962174941\n",
      "WARNING:root:Bad Gaussian [1.36683408 0.        ] at 777.  Lost 0.20919526615620787*0.0351028289621653\n",
      "WARNING:root:Bad Gaussian [2.95077152 0.        ] at 777.  Lost 0.20919526615620787*0.03324362294554748\n",
      "WARNING:root:Bad Gaussian [2.16786018 0.        ] at 777.  Lost 0.20919526615620787*0.03231960408684546\n",
      "WARNING:root:Bad Gaussian [2.80695438 0.        ] at 777.  Lost 0.20919526615620787*0.03218390804597701\n",
      "WARNING:root:Bad Gaussian [3.93035498 0.        ] at 5822.  Lost 0.5801617865447625*0.018081221340509074\n",
      "WARNING:root:Bad Gaussian [3.66283794 0.        ] at 5822.  Lost 0.5801617865447625*0.009533898305084746\n",
      "WARNING:root:Bad Gaussian [3.45866066 0.        ] at 5822.  Lost 0.5801617865447625*0.008588365039977943\n",
      "WARNING:root:Bad Gaussian [2.11849053 0.        ] at 5822.  Lost 0.5801617865447625*0.006437768240343348\n",
      "WARNING:root:Bad Gaussian [6.22432329 0.        ] at 5822.  Lost 0.5801617865447625*0.004282655246252677\n",
      "WARNING:root:Bad Gaussian [0.82275369 0.        ] at 5822.  Lost 0.5801617865447625*0.0022471910112359553\n",
      "WARNING:root:Bad Gaussian [3.43292757 0.        ] at 5822.  Lost 0.5801617865447625*0.0021929824561403508\n",
      "WARNING:root:Too few points 1 at 5822.  Lost 0.5801617865447625*0.0010940919037199124\n",
      "WARNING:root:point 14020 has multiplicity 63.\n",
      "WARNING:root:point 5813 has multiplicity 2.\n"
     ]
    },
    {
     "name": "stdout",
     "output_type": "stream",
     "text": [
      "40.49691390991211\n",
      "Begin GMM...\n",
      "PersImage(pixels=[10, 10], spread=0.05, specs=None, kernel_type=\"gaussian\", weighting_type=\"linear\")\n",
      "PersImage(pixels=[10, 10], spread=0.5, specs=None, kernel_type=\"gaussian\", weighting_type=\"linear\")\n",
      "PersImage(pixels=[10, 10], spread=1, specs=None, kernel_type=\"gaussian\", weighting_type=\"linear\")\n",
      "Begin GMM...\n",
      "PersImage(pixels=[15, 15], spread=0.05, specs=None, kernel_type=\"gaussian\", weighting_type=\"linear\")\n",
      "PersImage(pixels=[15, 15], spread=0.5, specs=None, kernel_type=\"gaussian\", weighting_type=\"linear\")\n",
      "PersImage(pixels=[15, 15], spread=1, specs=None, kernel_type=\"gaussian\", weighting_type=\"linear\")\n",
      "Begin GMM...\n",
      "PersImage(pixels=[20, 20], spread=0.05, specs=None, kernel_type=\"gaussian\", weighting_type=\"linear\")\n",
      "PersImage(pixels=[20, 20], spread=0.5, specs=None, kernel_type=\"gaussian\", weighting_type=\"linear\")\n",
      "PersImage(pixels=[20, 20], spread=1, specs=None, kernel_type=\"gaussian\", weighting_type=\"linear\")\n",
      "Begin CDER...\n"
     ]
    },
    {
     "name": "stderr",
     "output_type": "stream",
     "text": [
      "WARNING:root:point 256 has multiplicity 1201.\n",
      "WARNING:root:point 19032 has multiplicity 2.\n",
      "WARNING:root:Bad Gaussian [0.20239835 0.        ] at 256.  Lost 0.0003365239614944171*1.0000000000000004\n",
      "WARNING:root:Bad Gaussian [1.91181855 0.        ] at 256.  Lost 0.0003365239614944171*1.0000000000000002\n",
      "WARNING:root:Bad Gaussian [1.51234997 0.        ] at 256.  Lost 0.0003365239614944171*1.0000000000000002\n",
      "WARNING:root:Bad Gaussian [1.86860956 0.        ] at 256.  Lost 0.0003365239614944171*1.0000000000000002\n",
      "WARNING:root:Bad Gaussian [0.95056675 0.        ] at 256.  Lost 0.0003365239614944171*1.0000000000000002\n",
      "WARNING:root:Bad Gaussian [0.13612288 0.        ] at 256.  Lost 0.0003365239614944171*1.0\n",
      "WARNING:root:Bad Gaussian [0.1570482 0.       ] at 256.  Lost 0.0003365239614944171*1.0\n",
      "WARNING:root:Bad Gaussian [1.42354751 0.        ] at 256.  Lost 0.0003365239614944171*1.0\n",
      "WARNING:root:Bad Gaussian [0.21021399 0.        ] at 256.  Lost 0.0003365239614944171*1.0\n",
      "WARNING:root:Bad Gaussian [1.69109606 0.        ] at 256.  Lost 0.0003365239614944171*1.0\n",
      "WARNING:root:Bad Gaussian [1.22871438 0.        ] at 256.  Lost 0.0003365239614944171*1.0\n",
      "WARNING:root:Bad Gaussian [0.35577661 0.        ] at 256.  Lost 0.0003365239614944171*1.0\n",
      "WARNING:root:Bad Gaussian [0.29289323 0.        ] at 256.  Lost 0.0003365239614944171*1.0\n",
      "WARNING:root:Bad Gaussian [0.2003064 0.       ] at 256.  Lost 0.0003365239614944171*1.0\n",
      "WARNING:root:Bad Gaussian [0.19913933 0.        ] at 256.  Lost 0.0003365239614944171*1.0\n",
      "WARNING:root:Bad Gaussian [1.3385509 0.       ] at 256.  Lost 0.0003365239614944171*1.0\n",
      "WARNING:root:Bad Gaussian [0.9742055 0.       ] at 256.  Lost 0.0003365239614944171*0.9999999999999998\n",
      "WARNING:root:Bad Gaussian [1.64049979 0.        ] at 256.  Lost 0.0003365239614944171*0.9999999999999998\n",
      "WARNING:root:Bad Gaussian [1.60065485 0.        ] at 256.  Lost 0.0003365239614944171*0.9999999999999998\n",
      "WARNING:root:Bad Gaussian [1.28823391 0.        ] at 256.  Lost 0.0003365239614944171*0.9999999999999998\n",
      "WARNING:root:Bad Gaussian [1.17205638 0.        ] at 256.  Lost 0.0003365239614944171*0.9999999999999998\n",
      "WARNING:root:Bad Gaussian [0.19405527 0.        ] at 256.  Lost 0.0003365239614944171*0.9999999999999998\n",
      "WARNING:root:Bad Gaussian [0.20487904 0.        ] at 256.  Lost 0.0003365239614944171*0.9999999999999998\n",
      "WARNING:root:Bad Gaussian [1.44759758 0.        ] at 256.  Lost 0.0003365239614944171*0.9999999999999997\n",
      "WARNING:root:Bad Gaussian [1.31436055 0.        ] at 256.  Lost 0.0003365239614944171*0.9999999999999997\n",
      "WARNING:root:Bad Gaussian [0.18296833 0.        ] at 256.  Lost 0.0003365239614944171*0.9999999999999997\n",
      "WARNING:root:Bad Gaussian [1.79877152 0.        ] at 256.  Lost 0.0003365239614944171*0.9974619289340103\n",
      "WARNING:root:Bad Gaussian [1.55374972 0.        ] at 256.  Lost 0.0003365239614944171*0.9973821989528794\n",
      "WARNING:root:Bad Gaussian [1.62130061 0.        ] at 256.  Lost 0.0003365239614944171*0.9973404255319149\n",
      "WARNING:root:Bad Gaussian [1.56375544 0.        ] at 256.  Lost 0.0003365239614944171*0.9972222222222222\n",
      "WARNING:root:Bad Gaussian [2.26264419 0.        ] at 256.  Lost 0.0003365239614944171*0.9951573849878939\n",
      "WARNING:root:Bad Gaussian [1.69630249 0.        ] at 256.  Lost 0.0003365239614944171*0.9949494949494948\n",
      "WARNING:root:Bad Gaussian [1.83559092 0.        ] at 256.  Lost 0.0003365239614944171*0.9948979591836733\n",
      "WARNING:root:Bad Gaussian [1.70834687 0.        ] at 256.  Lost 0.0003365239614944171*0.9948453608247425\n",
      "WARNING:root:Bad Gaussian [1.72398095 0.        ] at 256.  Lost 0.0003365239614944171*0.9947780678851175\n",
      "WARNING:root:Bad Gaussian [1.98471528 0.        ] at 256.  Lost 0.0003365239614944171*0.9927360774818406\n",
      "WARNING:root:Bad Gaussian [1.4897158 0.       ] at 256.  Lost 0.0003365239614944171*0.9923076923076926\n",
      "WARNING:root:Bad Gaussian [1.87295627 0.        ] at 256.  Lost 0.0003365239614944171*0.9893617021276595\n",
      "WARNING:root:Bad Gaussian [1.98451388 0.        ] at 256.  Lost 0.0003365239614944171*0.9856801909307878\n",
      "WARNING:root:Bad Gaussian [2.24368502 0.        ] at 256.  Lost 0.0003365239614944171*0.9811764705882354\n",
      "WARNING:root:Bad Gaussian [2.12750139 0.        ] at 256.  Lost 0.0003365239614944171*0.9810874704491725\n",
      "WARNING:root:Bad Gaussian [2.06602698 0.        ] at 256.  Lost 0.0003365239614944171*0.98019801980198\n",
      "WARNING:root:Bad Gaussian [2.02494806 0.        ] at 256.  Lost 0.0003365239614944171*0.9801488833746896\n",
      "WARNING:root:Bad Gaussian [2.21764236 0.        ] at 256.  Lost 0.0003365239614944171*0.9792626728110599\n",
      "WARNING:root:Bad Gaussian [2.25786874 0.        ] at 256.  Lost 0.0003365239614944171*0.9757869249394677\n",
      "WARNING:root:Bad Gaussian [2.16850484 0.        ] at 256.  Lost 0.0003365239614944171*0.9747126436781609\n",
      "WARNING:root:Bad Gaussian [2.24210364 0.        ] at 256.  Lost 0.0003365239614944171*0.9711538461538459\n",
      "WARNING:root:Bad Gaussian [3.82500136 0.        ] at 19032.  Lost 0.23144438326642214*0.24050632911392397\n",
      "WARNING:root:Bad Gaussian [3.51171958 0.        ] at 19032.  Lost 0.23144438326642214*0.19354838709677422\n",
      "WARNING:root:Bad Gaussian [3.41494458 0.        ] at 19032.  Lost 0.23144438326642214*0.19298245614035087\n",
      "WARNING:root:Bad Gaussian [2.91170583 0.        ] at 19032.  Lost 0.23144438326642214*0.1334792122538293\n",
      "WARNING:root:Bad Gaussian [3.40294826 0.        ] at 19032.  Lost 0.23144438326642214*0.10180995475113126\n",
      "WARNING:root:Bad Gaussian [3.37427748 0.        ] at 19032.  Lost 0.23144438326642214*0.09641255605381167\n",
      "WARNING:root:Bad Gaussian [2.77608416 0.        ] at 19032.  Lost 0.23144438326642214*0.08333333333333336\n",
      "WARNING:root:Bad Gaussian [2.14470083 0.        ] at 19032.  Lost 0.23144438326642214*0.0738255033557047\n",
      "WARNING:root:Bad Gaussian [1.84509163 0.        ] at 19032.  Lost 0.23144438326642214*0.07192575406032482\n",
      "WARNING:root:Bad Gaussian [2.81014795 0.        ] at 19032.  Lost 0.23144438326642214*0.06896551724137931\n",
      "WARNING:root:Bad Gaussian [1.7039829 0.       ] at 19032.  Lost 0.23144438326642214*0.05288461538461538\n",
      "WARNING:root:Bad Gaussian [1.58575552 0.        ] at 19032.  Lost 0.23144438326642214*0.046948356807511735\n",
      "WARNING:root:Bad Gaussian [1.85197057 0.        ] at 19032.  Lost 0.23144438326642214*0.04672897196261682\n",
      "WARNING:root:Bad Gaussian [3.60560378 0.        ] at 19032.  Lost 0.23144438326642214*0.044705882352941165\n",
      "WARNING:root:Bad Gaussian [1.51087442 0.        ] at 19032.  Lost 0.23144438326642214*0.04225352112676056\n",
      "WARNING:root:Bad Gaussian [1.42267357 0.        ] at 19032.  Lost 0.23144438326642214*0.041570438799076216\n",
      "WARNING:root:Bad Gaussian [3.00757984 0.        ] at 19032.  Lost 0.23144438326642214*0.035714285714285705\n",
      "WARNING:root:Bad Gaussian [3.26411873 0.        ] at 19032.  Lost 0.23144438326642214*0.035460992907801414\n",
      "WARNING:root:Bad Gaussian [2.01499804 0.        ] at 19032.  Lost 0.23144438326642214*0.0351288056206089\n",
      "WARNING:root:Bad Gaussian [1.19953781 0.        ] at 19032.  Lost 0.23144438326642214*0.03271028037383177\n",
      "WARNING:root:Bad Gaussian [1.56398749 0.        ] at 19032.  Lost 0.23144438326642214*0.03271028037383177\n",
      "WARNING:root:Bad Gaussian [2.85503511 0.        ] at 19032.  Lost 0.23144438326642214*0.03248259860788863\n",
      "WARNING:root:Bad Gaussian [1.28588422 0.        ] at 19032.  Lost 0.23144438326642214*0.032407407407407406\n",
      "WARNING:root:Bad Gaussian [3.98763438 0.        ] at 23903.  Lost 0.744745231325721*0.027426160337552734\n",
      "WARNING:root:Bad Gaussian [3.53649846 0.        ] at 23903.  Lost 0.744745231325721*0.012903225806451615\n",
      "WARNING:root:Bad Gaussian [3.58461878 0.        ] at 23903.  Lost 0.744745231325721*0.006578947368421052\n",
      "WARNING:root:Too few points 1 at 23903.  Lost 0.744745231325721*0.002188183807439825\n",
      "WARNING:root:point 390 has multiplicity 36.\n"
     ]
    },
    {
     "name": "stdout",
     "output_type": "stream",
     "text": [
      "39.11521530151367\n",
      "Begin GMM...\n",
      "PersImage(pixels=[10, 10], spread=0.05, specs=None, kernel_type=\"gaussian\", weighting_type=\"linear\")\n",
      "PersImage(pixels=[10, 10], spread=0.5, specs=None, kernel_type=\"gaussian\", weighting_type=\"linear\")\n",
      "PersImage(pixels=[10, 10], spread=1, specs=None, kernel_type=\"gaussian\", weighting_type=\"linear\")\n",
      "Begin GMM...\n",
      "PersImage(pixels=[15, 15], spread=0.05, specs=None, kernel_type=\"gaussian\", weighting_type=\"linear\")\n",
      "PersImage(pixels=[15, 15], spread=0.5, specs=None, kernel_type=\"gaussian\", weighting_type=\"linear\")\n",
      "PersImage(pixels=[15, 15], spread=1, specs=None, kernel_type=\"gaussian\", weighting_type=\"linear\")\n",
      "Begin GMM...\n",
      "PersImage(pixels=[20, 20], spread=0.05, specs=None, kernel_type=\"gaussian\", weighting_type=\"linear\")\n",
      "PersImage(pixels=[20, 20], spread=0.5, specs=None, kernel_type=\"gaussian\", weighting_type=\"linear\")\n",
      "PersImage(pixels=[20, 20], spread=1, specs=None, kernel_type=\"gaussian\", weighting_type=\"linear\")\n"
     ]
    }
   ],
   "source": [
    "d = [5,10,15]\n",
    "p = [.5,.1,1.5]\n",
    "pixels = [[10,10],[15,15],[20,20]]\n",
    "spread = [.05,.5,1]\n",
    "number_landscapes = [3,7,10]\n",
    "number_landscapes = [3,4,5]\n",
    "resolution = [50,100,250]\n",
    "resolution = [25, 50, 100]\n",
    "sigma = [.3, .6, .9]\n",
    "split = [.85, .9,.95]\n",
    "\n",
    "for s in split:\n",
    "    X_dgm0_train, X_dgm0_test, X_dgm1_train, X_dgm1_test, y_train, y_test = train_test_split(X_dgm0, X_dgm1, labels, test_size = s, random_state=12, stratify = labels)\n",
    "\n",
    "    run_time = adaptive_features(X_dgm0_train, \"cder\", y_train)\n",
    "    method.append('CDER')\n",
    "    number_of_diagrams.append(len(X_dgm0_train))\n",
    "    timing.append(run_time)\n",
    "    p1.append(0)\n",
    "    p2.append(0)\n",
    "    \n",
    "    # Carlsson Coodinates\n",
    "\n",
    "    run_time = carlsson_coordinates(X_dgm0_train)\n",
    "    method.append('Carlsson Coordinates')\n",
    "    number_of_diagrams.append(len(X_dgm0_train))\n",
    "    timing.append(run_time)\n",
    "    p1.append(0)\n",
    "    p2.append(0)\n",
    "    \n",
    "    for i in range(0,3):\n",
    "        # Adaptive Features GMM\n",
    "        g = d[i]\n",
    "\n",
    "        run_time = adaptive_features(X_dgm0_train,  \"gmm\", y_train, d=g)\n",
    "        method.append('GMM')\n",
    "        number_of_diagrams.append(len(X_dgm0_train))\n",
    "        timing.append(run_time)\n",
    "        p1.append(g)\n",
    "        p2.append(0)\n",
    "        \n",
    "        #Kernel\n",
    "        s = sigma[i]\n",
    "\n",
    "        run_time = fast_kernel_features(X_dgm0_train, s)\n",
    "        method.append('Kernel')\n",
    "        number_of_diagrams.append(len(X_dgm0_train))\n",
    "        timing.append(run_time)\n",
    "        p1.append(s)\n",
    "        p2.append(0)\n",
    "        \n",
    "        \n",
    "        for j in range(0,3):\n",
    "            # Tent Functions\n",
    "            padding = p[j]\n",
    "            \n",
    "            run_time = tent_features(X_dgm0_train, d = g, padding = padding)\n",
    "            method.append('Tent Functions')\n",
    "            number_of_diagrams.append(len(X_dgm0_train))\n",
    "            timing.append(run_time)\n",
    "            p1.append(g)\n",
    "            p2.append(padding)\n",
    "            \n",
    "            # Persistence Images\n",
    "            \n",
    "            run_time = persistence_image_features(X_dgm0_train,pixels = pixels[i], spread=spread[j])\n",
    "            method.append('Persistence Images')\n",
    "            number_of_diagrams.append(len(X_dgm0_train))\n",
    "            timing.append(run_time)\n",
    "            p1.append(pixels[i])\n",
    "            p2.append(spread[j])\n",
    "            \n",
    "            # Persistence Landscapes\n",
    "            \n",
    "            run_time = landscape_features(X_dgm0_train, num_landscapes=number_landscapes[i], resolution=resolution[j])\n",
    "            method.append('Persistence Landscapes')\n",
    "            number_of_diagrams.append(len(X_dgm0_train))\n",
    "            timing.append(run_time)\n",
    "            p1.append(number_landscapes[i])\n",
    "            p2.append(resolution[j])"
   ]
  },
  {
   "cell_type": "code",
   "execution_count": 24,
   "metadata": {},
   "outputs": [],
   "source": [
    "timingdf = pd.DataFrame()\n",
    "timingdf['method'] = method\n",
    "timingdf['number_of_data_points'] = number_of_diagrams\n",
    "timingdf['timing'] = timing\n",
    "timingdf['p1'] = p1\n",
    "timingdf['p2'] = p2"
   ]
  },
  {
   "cell_type": "code",
   "execution_count": 29,
   "metadata": {},
   "outputs": [],
   "source": [
    "cder = timingdf[timingdf['method']=='CDER']\n",
    "gmm = timingdf[timingdf['method']=='GMM']\n",
    "kernel = timingdf[timingdf['method']=='Kernel']\n",
    "tent = timingdf[timingdf['method']=='Tent Functions']\n",
    "cc = timingdf[timingdf['method']=='Carlsson Coordinates']\n",
    "pi = timingdf[timingdf['method']=='Persistence Images']\n",
    "pl = timingdf[timingdf['method']=='Persistence Landscapes']"
   ]
  },
  {
   "cell_type": "code",
   "execution_count": 38,
   "metadata": {},
   "outputs": [
    {
     "data": {
      "text/plain": [
       "<AxesSubplot:xlabel='p1'>"
      ]
     },
     "execution_count": 38,
     "metadata": {},
     "output_type": "execute_result"
    },
    {
     "data": {
      "image/png": "[encoded data removed]",
      "text/plain": [
       "<Figure size 432x288 with 1 Axes>"
      ]
     },
     "metadata": {
      "needs_background": "light"
     },
     "output_type": "display_data"
    }
   ],
   "source": [
    "pl.plot(y = 'timing', x = 'p1')"
   ]
  },
  {
   "cell_type": "code",
   "execution_count": 45,
   "metadata": {},
   "outputs": [
    {
     "data": {
      "text/plain": [
       "<AxesSubplot:xlabel='p1', ylabel='number_of_data_points'>"
      ]
     },
     "execution_count": 45,
     "metadata": {},
     "output_type": "execute_result"
    },
    {
     "data": {
      "image/png": "[encoded data removed]",
      "text/plain": [
       "<Figure size 432x288 with 2 Axes>"
      ]
     },
     "metadata": {
      "needs_background": "light"
     },
     "output_type": "display_data"
    }
   ],
   "source": [
    "pl_c = pl[pl['p2']==50]\n",
    "sns.heatmap(pl_c.pivot('number_of_data_points', 'p1', 'timing'),cmap=\"YlGnBu\")"
   ]
  },
  {
   "cell_type": "code",
   "execution_count": 47,
   "metadata": {},
   "outputs": [
    {
     "data": {
      "text/html": [
       "<div>\n",
       "<style scoped>\n",
       "    .dataframe tbody tr th:only-of-type {\n",
       "        vertical-align: middle;\n",
       "    }\n",
       "\n",
       "    .dataframe tbody tr th {\n",
       "        vertical-align: top;\n",
       "    }\n",
       "\n",
       "    .dataframe thead th {\n",
       "        text-align: right;\n",
       "    }\n",
       "</style>\n",
       "<table border=\"1\" class=\"dataframe\">\n",
       "  <thead>\n",
       "    <tr style=\"text-align: right;\">\n",
       "      <th></th>\n",
       "      <th>method</th>\n",
       "      <th>number_of_data_points</th>\n",
       "      <th>timing</th>\n",
       "      <th>p1</th>\n",
       "      <th>p2</th>\n",
       "    </tr>\n",
       "  </thead>\n",
       "  <tbody>\n",
       "    <tr>\n",
       "      <th>9</th>\n",
       "      <td>Persistence Landscapes</td>\n",
       "      <td>210</td>\n",
       "      <td>5.633748</td>\n",
       "      <td>3</td>\n",
       "      <td>50.0</td>\n",
       "    </tr>\n",
       "    <tr>\n",
       "      <th>20</th>\n",
       "      <td>Persistence Landscapes</td>\n",
       "      <td>210</td>\n",
       "      <td>5.418633</td>\n",
       "      <td>4</td>\n",
       "      <td>50.0</td>\n",
       "    </tr>\n",
       "    <tr>\n",
       "      <th>31</th>\n",
       "      <td>Persistence Landscapes</td>\n",
       "      <td>210</td>\n",
       "      <td>5.288323</td>\n",
       "      <td>5</td>\n",
       "      <td>50.0</td>\n",
       "    </tr>\n",
       "    <tr>\n",
       "      <th>44</th>\n",
       "      <td>Persistence Landscapes</td>\n",
       "      <td>140</td>\n",
       "      <td>3.755797</td>\n",
       "      <td>3</td>\n",
       "      <td>50.0</td>\n",
       "    </tr>\n",
       "    <tr>\n",
       "      <th>55</th>\n",
       "      <td>Persistence Landscapes</td>\n",
       "      <td>140</td>\n",
       "      <td>3.686597</td>\n",
       "      <td>4</td>\n",
       "      <td>50.0</td>\n",
       "    </tr>\n",
       "    <tr>\n",
       "      <th>66</th>\n",
       "      <td>Persistence Landscapes</td>\n",
       "      <td>140</td>\n",
       "      <td>3.609587</td>\n",
       "      <td>5</td>\n",
       "      <td>50.0</td>\n",
       "    </tr>\n",
       "    <tr>\n",
       "      <th>79</th>\n",
       "      <td>Persistence Landscapes</td>\n",
       "      <td>70</td>\n",
       "      <td>1.826922</td>\n",
       "      <td>3</td>\n",
       "      <td>50.0</td>\n",
       "    </tr>\n",
       "    <tr>\n",
       "      <th>90</th>\n",
       "      <td>Persistence Landscapes</td>\n",
       "      <td>70</td>\n",
       "      <td>1.928378</td>\n",
       "      <td>4</td>\n",
       "      <td>50.0</td>\n",
       "    </tr>\n",
       "    <tr>\n",
       "      <th>101</th>\n",
       "      <td>Persistence Landscapes</td>\n",
       "      <td>70</td>\n",
       "      <td>1.805227</td>\n",
       "      <td>5</td>\n",
       "      <td>50.0</td>\n",
       "    </tr>\n",
       "  </tbody>\n",
       "</table>\n",
       "</div>"
      ],
      "text/plain": [
       "                     method  number_of_data_points    timing p1    p2\n",
       "9    Persistence Landscapes                    210  5.633748  3  50.0\n",
       "20   Persistence Landscapes                    210  5.418633  4  50.0\n",
       "31   Persistence Landscapes                    210  5.288323  5  50.0\n",
       "44   Persistence Landscapes                    140  3.755797  3  50.0\n",
       "55   Persistence Landscapes                    140  3.686597  4  50.0\n",
       "66   Persistence Landscapes                    140  3.609587  5  50.0\n",
       "79   Persistence Landscapes                     70  1.826922  3  50.0\n",
       "90   Persistence Landscapes                     70  1.928378  4  50.0\n",
       "101  Persistence Landscapes                     70  1.805227  5  50.0"
      ]
     },
     "execution_count": 47,
     "metadata": {},
     "output_type": "execute_result"
    }
   ],
   "source": [
    "pl_c = pl[pl['p2']==50]\n",
    "pl_c"
   ]
  },
  {
   "cell_type": "code",
   "execution_count": 81,
   "metadata": {},
   "outputs": [],
   "source": [
    "pl_compare = pl.groupby(by= ['number_of_data_points']).mean()\n",
    "cder_compare = cder.groupby(by= ['number_of_data_points']).mean()\n",
    "pi_compare = pi.groupby(by= ['number_of_data_points']).mean()\n",
    "kernel_compare = kernel.groupby(by= ['number_of_data_points']).mean()\n",
    "cc_compare = cc.groupby(by= ['number_of_data_points']).mean()\n",
    "tent_compare = tent.groupby(by= ['number_of_data_points']).mean()\n",
    "gmm_compare = gmm.groupby(by= ['number_of_data_points']).mean()"
   ]
  },
  {
   "cell_type": "code",
   "execution_count": 119,
   "metadata": {},
   "outputs": [
    {
     "data": {
      "text/plain": [
       "Text(0.5, 0.98, 'Timing comparison by method')"
      ]
     },
     "execution_count": 119,
     "metadata": {},
     "output_type": "execute_result"
    },
    {
     "data": {
      "image/png": "[encoded data removed]",
      "text/plain": [
       "<Figure size 864x432 with 2 Axes>"
      ]
     },
     "metadata": {
      "needs_background": "light"
     },
     "output_type": "display_data"
    }
   ],
   "source": [
    "fig, (ax1, ax2) = plt.subplots(1, 2,figsize=(12,6))\n",
    "\n",
    "\n",
    "ax1.plot(kernel_compare['timing'], label = \"Multi-Scale Kernel\", c='Blue')\n",
    "ax1.plot(pl_compare['timing'], label = \"Persistence Landscapes\",c='Red')\n",
    "ax1.plot(pi_compare['timing'], label = \"Persistence Images\", c='Purple')\n",
    "ax1.plot(cc_compare['timing'], label = \"Carlsson Coordinates\", c='Yellow')\n",
    "ax1.plot(tent_compare['timing'], label = \"Tent Functions\", c='Orange')\n",
    "ax1.plot(cder_compare['timing'], label = 'Adaptive Templates (CDER)', c='Green')\n",
    "ax1.plot(gmm_compare['timing'], label = \"Adaptive Templates (GMM)\", c='Magenta')\n",
    "ax1.legend()\n",
    "ax1.set(xlabel = 'Size of Dataset', ylabel = 'Time in Seconds')\n",
    "\n",
    "\n",
    "ax2.plot(pl_compare['timing'], label = \"Persistence Landscapes\",c='Red')\n",
    "ax2.plot(pi_compare['timing'], label = \"Persistence Images\",c='Purple')\n",
    "ax2.plot(cc_compare['timing'], label = \"Carlsson Coordinates\",c='Yellow')\n",
    "ax2.plot(tent_compare['timing'], label = \"Tent Functions\", c='Orange')\n",
    "ax2.plot(cder_compare['timing'], label = 'Adaptive Templates (CDER)',c='Green')\n",
    "ax2.plot(gmm_compare['timing'], label = \"Adaptive Templates (GMM)\",c='Magenta')\n",
    "ax2.set(xlabel = 'Size of Dataset', ylabel = 'Time in Seconds')\n",
    "\n",
    "fig.suptitle('Timing comparison by method')"
   ]
  },
  {
   "cell_type": "code",
   "execution_count": 121,
   "metadata": {},
   "outputs": [
    {
     "data": {
      "text/html": [
       "<div>\n",
       "<style scoped>\n",
       "    .dataframe tbody tr th:only-of-type {\n",
       "        vertical-align: middle;\n",
       "    }\n",
       "\n",
       "    .dataframe tbody tr th {\n",
       "        vertical-align: top;\n",
       "    }\n",
       "\n",
       "    .dataframe thead th {\n",
       "        text-align: right;\n",
       "    }\n",
       "</style>\n",
       "<table border=\"1\" class=\"dataframe\">\n",
       "  <thead>\n",
       "    <tr style=\"text-align: right;\">\n",
       "      <th></th>\n",
       "      <th>method</th>\n",
       "      <th>number_of_data_points</th>\n",
       "      <th>timing</th>\n",
       "      <th>p1</th>\n",
       "      <th>p2</th>\n",
       "    </tr>\n",
       "  </thead>\n",
       "  <tbody>\n",
       "    <tr>\n",
       "      <th>6</th>\n",
       "      <td>Persistence Landscapes</td>\n",
       "      <td>210</td>\n",
       "      <td>5.345872</td>\n",
       "      <td>3</td>\n",
       "      <td>25.0</td>\n",
       "    </tr>\n",
       "    <tr>\n",
       "      <th>9</th>\n",
       "      <td>Persistence Landscapes</td>\n",
       "      <td>210</td>\n",
       "      <td>5.633748</td>\n",
       "      <td>3</td>\n",
       "      <td>50.0</td>\n",
       "    </tr>\n",
       "    <tr>\n",
       "      <th>12</th>\n",
       "      <td>Persistence Landscapes</td>\n",
       "      <td>210</td>\n",
       "      <td>5.743177</td>\n",
       "      <td>3</td>\n",
       "      <td>100.0</td>\n",
       "    </tr>\n",
       "    <tr>\n",
       "      <th>17</th>\n",
       "      <td>Persistence Landscapes</td>\n",
       "      <td>210</td>\n",
       "      <td>5.619769</td>\n",
       "      <td>4</td>\n",
       "      <td>25.0</td>\n",
       "    </tr>\n",
       "    <tr>\n",
       "      <th>20</th>\n",
       "      <td>Persistence Landscapes</td>\n",
       "      <td>210</td>\n",
       "      <td>5.418633</td>\n",
       "      <td>4</td>\n",
       "      <td>50.0</td>\n",
       "    </tr>\n",
       "    <tr>\n",
       "      <th>23</th>\n",
       "      <td>Persistence Landscapes</td>\n",
       "      <td>210</td>\n",
       "      <td>5.559416</td>\n",
       "      <td>4</td>\n",
       "      <td>100.0</td>\n",
       "    </tr>\n",
       "    <tr>\n",
       "      <th>28</th>\n",
       "      <td>Persistence Landscapes</td>\n",
       "      <td>210</td>\n",
       "      <td>5.803962</td>\n",
       "      <td>5</td>\n",
       "      <td>25.0</td>\n",
       "    </tr>\n",
       "    <tr>\n",
       "      <th>31</th>\n",
       "      <td>Persistence Landscapes</td>\n",
       "      <td>210</td>\n",
       "      <td>5.288323</td>\n",
       "      <td>5</td>\n",
       "      <td>50.0</td>\n",
       "    </tr>\n",
       "    <tr>\n",
       "      <th>34</th>\n",
       "      <td>Persistence Landscapes</td>\n",
       "      <td>210</td>\n",
       "      <td>5.546337</td>\n",
       "      <td>5</td>\n",
       "      <td>100.0</td>\n",
       "    </tr>\n",
       "    <tr>\n",
       "      <th>41</th>\n",
       "      <td>Persistence Landscapes</td>\n",
       "      <td>140</td>\n",
       "      <td>3.645015</td>\n",
       "      <td>3</td>\n",
       "      <td>25.0</td>\n",
       "    </tr>\n",
       "    <tr>\n",
       "      <th>44</th>\n",
       "      <td>Persistence Landscapes</td>\n",
       "      <td>140</td>\n",
       "      <td>3.755797</td>\n",
       "      <td>3</td>\n",
       "      <td>50.0</td>\n",
       "    </tr>\n",
       "    <tr>\n",
       "      <th>47</th>\n",
       "      <td>Persistence Landscapes</td>\n",
       "      <td>140</td>\n",
       "      <td>3.800806</td>\n",
       "      <td>3</td>\n",
       "      <td>100.0</td>\n",
       "    </tr>\n",
       "    <tr>\n",
       "      <th>52</th>\n",
       "      <td>Persistence Landscapes</td>\n",
       "      <td>140</td>\n",
       "      <td>3.604632</td>\n",
       "      <td>4</td>\n",
       "      <td>25.0</td>\n",
       "    </tr>\n",
       "    <tr>\n",
       "      <th>55</th>\n",
       "      <td>Persistence Landscapes</td>\n",
       "      <td>140</td>\n",
       "      <td>3.686597</td>\n",
       "      <td>4</td>\n",
       "      <td>50.0</td>\n",
       "    </tr>\n",
       "    <tr>\n",
       "      <th>58</th>\n",
       "      <td>Persistence Landscapes</td>\n",
       "      <td>140</td>\n",
       "      <td>3.663844</td>\n",
       "      <td>4</td>\n",
       "      <td>100.0</td>\n",
       "    </tr>\n",
       "    <tr>\n",
       "      <th>63</th>\n",
       "      <td>Persistence Landscapes</td>\n",
       "      <td>140</td>\n",
       "      <td>3.554819</td>\n",
       "      <td>5</td>\n",
       "      <td>25.0</td>\n",
       "    </tr>\n",
       "    <tr>\n",
       "      <th>66</th>\n",
       "      <td>Persistence Landscapes</td>\n",
       "      <td>140</td>\n",
       "      <td>3.609587</td>\n",
       "      <td>5</td>\n",
       "      <td>50.0</td>\n",
       "    </tr>\n",
       "    <tr>\n",
       "      <th>69</th>\n",
       "      <td>Persistence Landscapes</td>\n",
       "      <td>140</td>\n",
       "      <td>3.729589</td>\n",
       "      <td>5</td>\n",
       "      <td>100.0</td>\n",
       "    </tr>\n",
       "    <tr>\n",
       "      <th>76</th>\n",
       "      <td>Persistence Landscapes</td>\n",
       "      <td>70</td>\n",
       "      <td>1.766012</td>\n",
       "      <td>3</td>\n",
       "      <td>25.0</td>\n",
       "    </tr>\n",
       "    <tr>\n",
       "      <th>79</th>\n",
       "      <td>Persistence Landscapes</td>\n",
       "      <td>70</td>\n",
       "      <td>1.826922</td>\n",
       "      <td>3</td>\n",
       "      <td>50.0</td>\n",
       "    </tr>\n",
       "    <tr>\n",
       "      <th>82</th>\n",
       "      <td>Persistence Landscapes</td>\n",
       "      <td>70</td>\n",
       "      <td>2.122673</td>\n",
       "      <td>3</td>\n",
       "      <td>100.0</td>\n",
       "    </tr>\n",
       "    <tr>\n",
       "      <th>87</th>\n",
       "      <td>Persistence Landscapes</td>\n",
       "      <td>70</td>\n",
       "      <td>2.058078</td>\n",
       "      <td>4</td>\n",
       "      <td>25.0</td>\n",
       "    </tr>\n",
       "    <tr>\n",
       "      <th>90</th>\n",
       "      <td>Persistence Landscapes</td>\n",
       "      <td>70</td>\n",
       "      <td>1.928378</td>\n",
       "      <td>4</td>\n",
       "      <td>50.0</td>\n",
       "    </tr>\n",
       "    <tr>\n",
       "      <th>93</th>\n",
       "      <td>Persistence Landscapes</td>\n",
       "      <td>70</td>\n",
       "      <td>1.752559</td>\n",
       "      <td>4</td>\n",
       "      <td>100.0</td>\n",
       "    </tr>\n",
       "    <tr>\n",
       "      <th>98</th>\n",
       "      <td>Persistence Landscapes</td>\n",
       "      <td>70</td>\n",
       "      <td>1.759196</td>\n",
       "      <td>5</td>\n",
       "      <td>25.0</td>\n",
       "    </tr>\n",
       "    <tr>\n",
       "      <th>101</th>\n",
       "      <td>Persistence Landscapes</td>\n",
       "      <td>70</td>\n",
       "      <td>1.805227</td>\n",
       "      <td>5</td>\n",
       "      <td>50.0</td>\n",
       "    </tr>\n",
       "    <tr>\n",
       "      <th>104</th>\n",
       "      <td>Persistence Landscapes</td>\n",
       "      <td>70</td>\n",
       "      <td>1.815226</td>\n",
       "      <td>5</td>\n",
       "      <td>100.0</td>\n",
       "    </tr>\n",
       "  </tbody>\n",
       "</table>\n",
       "</div>"
      ],
      "text/plain": [
       "                     method  number_of_data_points    timing p1     p2\n",
       "6    Persistence Landscapes                    210  5.345872  3   25.0\n",
       "9    Persistence Landscapes                    210  5.633748  3   50.0\n",
       "12   Persistence Landscapes                    210  5.743177  3  100.0\n",
       "17   Persistence Landscapes                    210  5.619769  4   25.0\n",
       "20   Persistence Landscapes                    210  5.418633  4   50.0\n",
       "23   Persistence Landscapes                    210  5.559416  4  100.0\n",
       "28   Persistence Landscapes                    210  5.803962  5   25.0\n",
       "31   Persistence Landscapes                    210  5.288323  5   50.0\n",
       "34   Persistence Landscapes                    210  5.546337  5  100.0\n",
       "41   Persistence Landscapes                    140  3.645015  3   25.0\n",
       "44   Persistence Landscapes                    140  3.755797  3   50.0\n",
       "47   Persistence Landscapes                    140  3.800806  3  100.0\n",
       "52   Persistence Landscapes                    140  3.604632  4   25.0\n",
       "55   Persistence Landscapes                    140  3.686597  4   50.0\n",
       "58   Persistence Landscapes                    140  3.663844  4  100.0\n",
       "63   Persistence Landscapes                    140  3.554819  5   25.0\n",
       "66   Persistence Landscapes                    140  3.609587  5   50.0\n",
       "69   Persistence Landscapes                    140  3.729589  5  100.0\n",
       "76   Persistence Landscapes                     70  1.766012  3   25.0\n",
       "79   Persistence Landscapes                     70  1.826922  3   50.0\n",
       "82   Persistence Landscapes                     70  2.122673  3  100.0\n",
       "87   Persistence Landscapes                     70  2.058078  4   25.0\n",
       "90   Persistence Landscapes                     70  1.928378  4   50.0\n",
       "93   Persistence Landscapes                     70  1.752559  4  100.0\n",
       "98   Persistence Landscapes                     70  1.759196  5   25.0\n",
       "101  Persistence Landscapes                     70  1.805227  5   50.0\n",
       "104  Persistence Landscapes                     70  1.815226  5  100.0"
      ]
     },
     "execution_count": 121,
     "metadata": {},
     "output_type": "execute_result"
    }
   ],
   "source": [
    "pl"
   ]
  },
  {
   "cell_type": "code",
   "execution_count": 84,
   "metadata": {},
   "outputs": [
    {
     "data": {
      "text/plain": [
       "number_of_data_points\n",
       "70     12.170002\n",
       "140    34.947823\n",
       "210    60.262369\n",
       "Name: timing, dtype: float64"
      ]
     },
     "execution_count": 84,
     "metadata": {},
     "output_type": "execute_result"
    }
   ],
   "source": [
    "gmm_compare['timing']"
   ]
  },
  {
   "cell_type": "code",
   "execution_count": 131,
   "metadata": {},
   "outputs": [
    {
     "data": {
      "text/plain": [
       "<AxesSubplot:xlabel='p1', ylabel='number_of_data_points'>"
      ]
     },
     "execution_count": 131,
     "metadata": {},
     "output_type": "execute_result"
    },
    {
     "data": {
      "image/png": "[encoded data removed]",
      "text/plain": [
       "<Figure size 432x288 with 2 Axes>"
      ]
     },
     "metadata": {
      "needs_background": "light"
     },
     "output_type": "display_data"
    }
   ],
   "source": [
    "sns.heatmap(gmm.pivot('number_of_data_points', 'p1', 'timing'),cmap=\"YlGnBu\", annot=True)"
   ]
  },
  {
   "cell_type": "code",
   "execution_count": 132,
   "metadata": {},
   "outputs": [
    {
     "data": {
      "text/plain": [
       "<AxesSubplot:xlabel='p1', ylabel='number_of_data_points'>"
      ]
     },
     "execution_count": 132,
     "metadata": {},
     "output_type": "execute_result"
    },
    {
     "data": {
      "image/png": "[encoded data removed]",
      "text/plain": [
       "<Figure size 432x288 with 2 Axes>"
      ]
     },
     "metadata": {
      "needs_background": "light"
     },
     "output_type": "display_data"
    }
   ],
   "source": [
    "sns.heatmap(kernel.pivot('number_of_data_points', 'p1', 'timing'),cmap=\"YlGnBu\",annot=True)"
   ]
  },
  {
   "cell_type": "code",
   "execution_count": 133,
   "metadata": {},
   "outputs": [
    {
     "data": {
      "text/plain": [
       "<AxesSubplot:xlabel='p1', ylabel='number_of_data_points'>"
      ]
     },
     "execution_count": 133,
     "metadata": {},
     "output_type": "execute_result"
    },
    {
     "data": {
      "image/png": "[encoded data removed]",
      "text/plain": [
       "<Figure size 432x288 with 2 Axes>"
      ]
     },
     "metadata": {
      "needs_background": "light"
     },
     "output_type": "display_data"
    }
   ],
   "source": [
    "pl_c = pl[pl['p2']==50]\n",
    "sns.heatmap(pl_c.pivot('number_of_data_points', 'p1', 'timing'),cmap=\"YlGnBu\",annot=True)"
   ]
  },
  {
   "cell_type": "code",
   "execution_count": 135,
   "metadata": {},
   "outputs": [
    {
     "data": {
      "text/plain": [
       "<AxesSubplot:xlabel='p2', ylabel='number_of_data_points'>"
      ]
     },
     "execution_count": 135,
     "metadata": {},
     "output_type": "execute_result"
    },
    {
     "data": {
      "image/png": "[encoded data removed]",
      "text/plain": [
       "<Figure size 432x288 with 2 Axes>"
      ]
     },
     "metadata": {
      "needs_background": "light"
     },
     "output_type": "display_data"
    }
   ],
   "source": [
    "pl_c = pl[pl['p1']==4]\n",
    "sns.heatmap(pl_c.pivot('number_of_data_points', 'p2','timing'),cmap=\"YlGnBu\",annot=True)"
   ]
  },
  {
   "cell_type": "code",
   "execution_count": 144,
   "metadata": {},
   "outputs": [
    {
     "data": {
      "text/plain": [
       "[Text(0.5, 15.0, 'Number of Tent Functions'),\n",
       " Text(33.0, 0.5, 'Number of Data Points'),\n",
       " Text(0.5, 1.0, 'Tent Functions Timing (in Seconds)')]"
      ]
     },
     "execution_count": 144,
     "metadata": {},
     "output_type": "execute_result"
    },
    {
     "data": {
      "image/png": "[encoded data removed]",
      "text/plain": [
       "<Figure size 432x288 with 2 Axes>"
      ]
     },
     "metadata": {
      "needs_background": "light"
     },
     "output_type": "display_data"
    }
   ],
   "source": [
    "tent_c = tent[tent['p2']==1.5]\n",
    "fig = sns.heatmap(tent_c.pivot('number_of_data_points', 'p1','timing'),cmap=\"YlGnBu\",annot=True)\n",
    "fig.set(xlabel='Number of Tent Functions', ylabel='Number of Data Points', title=\"Tent Functions Timing (in Seconds)\")"
   ]
  },
  {
   "cell_type": "code",
   "execution_count": 177,
   "metadata": {},
   "outputs": [
    {
     "name": "stdout",
     "output_type": "stream",
     "text": [
      "                 method  number_of_data_points     timing        p1   p2\n",
      "8    Persistence Images                    210  27.013778  [10, 10]  0.5\n",
      "19   Persistence Images                    210  27.211170  [15, 15]  0.5\n",
      "30   Persistence Images                    210  27.694126  [20, 20]  0.5\n",
      "43   Persistence Images                    140  18.034409  [10, 10]  0.5\n",
      "54   Persistence Images                    140  18.128968  [15, 15]  0.5\n",
      "65   Persistence Images                    140  17.839202  [20, 20]  0.5\n",
      "78   Persistence Images                     70   9.134190  [10, 10]  0.5\n",
      "89   Persistence Images                     70   9.593644  [15, 15]  0.5\n",
      "100  Persistence Images                     70   9.511939  [20, 20]  0.5\n"
     ]
    },
    {
     "name": "stderr",
     "output_type": "stream",
     "text": [
      "/Users/barnesd8/Documents/git/machine_learning_persistence/env/lib/python3.7/site-packages/ipykernel_launcher.py:2: SettingWithCopyWarning: \n",
      "A value is trying to be set on a copy of a slice from a DataFrame.\n",
      "Try using .loc[row_indexer,col_indexer] = value instead\n",
      "\n",
      "See the caveats in the documentation: https://pandas.pydata.org/pandas-docs/stable/user_guide/indexing.html#returning-a-view-versus-a-copy\n",
      "  \n"
     ]
    },
    {
     "data": {
      "text/plain": [
       "[Text(0.5, 15.0, 'Number of Tent Functions'),\n",
       " Text(33.0, 0.5, 'Number of Data Points'),\n",
       " Text(0.5, 1.0, 'Tent Functions Timing (in Seconds)')]"
      ]
     },
     "execution_count": 177,
     "metadata": {},
     "output_type": "execute_result"
    },
    {
     "data": {
      "image/png": "[encoded data removed]",
      "text/plain": [
       "<Figure size 432x288 with 2 Axes>"
      ]
     },
     "metadata": {
      "needs_background": "light"
     },
     "output_type": "display_data"
    }
   ],
   "source": [
    "pi_c = pi[pi['p2']==.5]\n",
    "pi_c['p1'] = pi_c.p1.astype(str)\n",
    "print(pi_c)\n",
    "fig = sns.heatmap(pi_c.pivot('number_of_data_points', 'p1','timing'),cmap=\"YlGnBu\",annot=True)\n",
    "fig.set(xlabel='Number of Tent Functions', ylabel='Number of Data Points', title=\"Tent Functions Timing (in Seconds)\")\n",
    "\n",
    "\n"
   ]
  },
  {
   "cell_type": "code",
   "execution_count": 185,
   "metadata": {},
   "outputs": [
    {
     "name": "stdout",
     "output_type": "stream",
     "text": [
      "                method  number_of_data_points     timing        p1    p2\n",
      "16  Persistence Images                    210  27.323160  [15, 15]  0.05\n",
      "19  Persistence Images                    210  27.211170  [15, 15]  0.50\n",
      "22  Persistence Images                    210  27.276122  [15, 15]  1.00\n",
      "51  Persistence Images                    140  18.046337  [15, 15]  0.05\n",
      "54  Persistence Images                    140  18.128968  [15, 15]  0.50\n",
      "57  Persistence Images                    140  18.105143  [15, 15]  1.00\n",
      "86  Persistence Images                     70  12.192296  [15, 15]  0.05\n",
      "89  Persistence Images                     70   9.593644  [15, 15]  0.50\n",
      "92  Persistence Images                     70   8.943819  [15, 15]  1.00\n"
     ]
    },
    {
     "name": "stderr",
     "output_type": "stream",
     "text": [
      "/Users/barnesd8/Documents/git/machine_learning_persistence/env/lib/python3.7/site-packages/ipykernel_launcher.py:2: SettingWithCopyWarning: \n",
      "A value is trying to be set on a copy of a slice from a DataFrame.\n",
      "Try using .loc[row_indexer,col_indexer] = value instead\n",
      "\n",
      "See the caveats in the documentation: https://pandas.pydata.org/pandas-docs/stable/user_guide/indexing.html#returning-a-view-versus-a-copy\n",
      "  \n"
     ]
    },
    {
     "data": {
      "text/plain": [
       "[Text(0.5, 15.0, 'Number of Tent Functions'),\n",
       " Text(33.0, 0.5, 'Number of Data Points'),\n",
       " Text(0.5, 1.0, 'Tent Functions Timing (in Seconds)')]"
      ]
     },
     "execution_count": 185,
     "metadata": {},
     "output_type": "execute_result"
    },
    {
     "data": {
      "image/png": "[encoded data removed]",
      "text/plain": [
       "<Figure size 432x288 with 2 Axes>"
      ]
     },
     "metadata": {
      "needs_background": "light"
     },
     "output_type": "display_data"
    }
   ],
   "source": [
    "pi_c = pi\n",
    "pi_c['p1'] = pi.p1.astype(str)\n",
    "pi_c = pi_c[pi_c['p1']=='[15, 15]']\n",
    "\n",
    "print(pi_c)\n",
    "fig = sns.heatmap(pi_c.pivot('number_of_data_points', 'p2','timing'),cmap=\"YlGnBu\",annot=True)\n",
    "fig.set(xlabel='Number of Tent Functions', ylabel='Number of Data Points', title=\"Tent Functions Timing (in Seconds)\")\n",
    "\n",
    "\n",
    "\n",
    "\n",
    "\n"
   ]
  },
  {
   "cell_type": "code",
   "execution_count": 190,
   "metadata": {},
   "outputs": [
    {
     "data": {
      "text/plain": [
       "[Text(0.5, 15.0, 'Number of Tent Functions'),\n",
       " Text(33.0, 0.5, 'Number of Data Points'),\n",
       " Text(0.5, 1.0, 'Tent Functions Timing (in Seconds)')]"
      ]
     },
     "execution_count": 190,
     "metadata": {},
     "output_type": "execute_result"
    },
    {
     "data": {
      "image/png": "[encoded data removed]",
      "text/plain": [
       "<Figure size 432x288 with 2 Axes>"
      ]
     },
     "metadata": {
      "needs_background": "light"
     },
     "output_type": "display_data"
    }
   ],
   "source": [
    "pl_c = pl[pl['p2']==100]\n",
    "fig = sns.heatmap(pl_c.pivot('number_of_data_points', 'p1','timing'),cmap=\"YlGnBu\",annot=True)\n",
    "fig.set(xlabel='Number of Tent Functions', ylabel='Number of Data Points', title=\"Tent Functions Timing (in Seconds)\")\n"
   ]
  },
  {
   "cell_type": "code",
   "execution_count": 186,
   "metadata": {},
   "outputs": [
    {
     "data": {
      "text/html": [
       "<div>\n",
       "<style scoped>\n",
       "    .dataframe tbody tr th:only-of-type {\n",
       "        vertical-align: middle;\n",
       "    }\n",
       "\n",
       "    .dataframe tbody tr th {\n",
       "        vertical-align: top;\n",
       "    }\n",
       "\n",
       "    .dataframe thead th {\n",
       "        text-align: right;\n",
       "    }\n",
       "</style>\n",
       "<table border=\"1\" class=\"dataframe\">\n",
       "  <thead>\n",
       "    <tr style=\"text-align: right;\">\n",
       "      <th></th>\n",
       "      <th>method</th>\n",
       "      <th>number_of_data_points</th>\n",
       "      <th>timing</th>\n",
       "      <th>p1</th>\n",
       "      <th>p2</th>\n",
       "    </tr>\n",
       "  </thead>\n",
       "  <tbody>\n",
       "    <tr>\n",
       "      <th>6</th>\n",
       "      <td>Persistence Landscapes</td>\n",
       "      <td>210</td>\n",
       "      <td>5.345872</td>\n",
       "      <td>3</td>\n",
       "      <td>25.0</td>\n",
       "    </tr>\n",
       "    <tr>\n",
       "      <th>9</th>\n",
       "      <td>Persistence Landscapes</td>\n",
       "      <td>210</td>\n",
       "      <td>5.633748</td>\n",
       "      <td>3</td>\n",
       "      <td>50.0</td>\n",
       "    </tr>\n",
       "    <tr>\n",
       "      <th>12</th>\n",
       "      <td>Persistence Landscapes</td>\n",
       "      <td>210</td>\n",
       "      <td>5.743177</td>\n",
       "      <td>3</td>\n",
       "      <td>100.0</td>\n",
       "    </tr>\n",
       "    <tr>\n",
       "      <th>17</th>\n",
       "      <td>Persistence Landscapes</td>\n",
       "      <td>210</td>\n",
       "      <td>5.619769</td>\n",
       "      <td>4</td>\n",
       "      <td>25.0</td>\n",
       "    </tr>\n",
       "    <tr>\n",
       "      <th>20</th>\n",
       "      <td>Persistence Landscapes</td>\n",
       "      <td>210</td>\n",
       "      <td>5.418633</td>\n",
       "      <td>4</td>\n",
       "      <td>50.0</td>\n",
       "    </tr>\n",
       "    <tr>\n",
       "      <th>23</th>\n",
       "      <td>Persistence Landscapes</td>\n",
       "      <td>210</td>\n",
       "      <td>5.559416</td>\n",
       "      <td>4</td>\n",
       "      <td>100.0</td>\n",
       "    </tr>\n",
       "    <tr>\n",
       "      <th>28</th>\n",
       "      <td>Persistence Landscapes</td>\n",
       "      <td>210</td>\n",
       "      <td>5.803962</td>\n",
       "      <td>5</td>\n",
       "      <td>25.0</td>\n",
       "    </tr>\n",
       "    <tr>\n",
       "      <th>31</th>\n",
       "      <td>Persistence Landscapes</td>\n",
       "      <td>210</td>\n",
       "      <td>5.288323</td>\n",
       "      <td>5</td>\n",
       "      <td>50.0</td>\n",
       "    </tr>\n",
       "    <tr>\n",
       "      <th>34</th>\n",
       "      <td>Persistence Landscapes</td>\n",
       "      <td>210</td>\n",
       "      <td>5.546337</td>\n",
       "      <td>5</td>\n",
       "      <td>100.0</td>\n",
       "    </tr>\n",
       "    <tr>\n",
       "      <th>41</th>\n",
       "      <td>Persistence Landscapes</td>\n",
       "      <td>140</td>\n",
       "      <td>3.645015</td>\n",
       "      <td>3</td>\n",
       "      <td>25.0</td>\n",
       "    </tr>\n",
       "    <tr>\n",
       "      <th>44</th>\n",
       "      <td>Persistence Landscapes</td>\n",
       "      <td>140</td>\n",
       "      <td>3.755797</td>\n",
       "      <td>3</td>\n",
       "      <td>50.0</td>\n",
       "    </tr>\n",
       "    <tr>\n",
       "      <th>47</th>\n",
       "      <td>Persistence Landscapes</td>\n",
       "      <td>140</td>\n",
       "      <td>3.800806</td>\n",
       "      <td>3</td>\n",
       "      <td>100.0</td>\n",
       "    </tr>\n",
       "    <tr>\n",
       "      <th>52</th>\n",
       "      <td>Persistence Landscapes</td>\n",
       "      <td>140</td>\n",
       "      <td>3.604632</td>\n",
       "      <td>4</td>\n",
       "      <td>25.0</td>\n",
       "    </tr>\n",
       "    <tr>\n",
       "      <th>55</th>\n",
       "      <td>Persistence Landscapes</td>\n",
       "      <td>140</td>\n",
       "      <td>3.686597</td>\n",
       "      <td>4</td>\n",
       "      <td>50.0</td>\n",
       "    </tr>\n",
       "    <tr>\n",
       "      <th>58</th>\n",
       "      <td>Persistence Landscapes</td>\n",
       "      <td>140</td>\n",
       "      <td>3.663844</td>\n",
       "      <td>4</td>\n",
       "      <td>100.0</td>\n",
       "    </tr>\n",
       "    <tr>\n",
       "      <th>63</th>\n",
       "      <td>Persistence Landscapes</td>\n",
       "      <td>140</td>\n",
       "      <td>3.554819</td>\n",
       "      <td>5</td>\n",
       "      <td>25.0</td>\n",
       "    </tr>\n",
       "    <tr>\n",
       "      <th>66</th>\n",
       "      <td>Persistence Landscapes</td>\n",
       "      <td>140</td>\n",
       "      <td>3.609587</td>\n",
       "      <td>5</td>\n",
       "      <td>50.0</td>\n",
       "    </tr>\n",
       "    <tr>\n",
       "      <th>69</th>\n",
       "      <td>Persistence Landscapes</td>\n",
       "      <td>140</td>\n",
       "      <td>3.729589</td>\n",
       "      <td>5</td>\n",
       "      <td>100.0</td>\n",
       "    </tr>\n",
       "    <tr>\n",
       "      <th>76</th>\n",
       "      <td>Persistence Landscapes</td>\n",
       "      <td>70</td>\n",
       "      <td>1.766012</td>\n",
       "      <td>3</td>\n",
       "      <td>25.0</td>\n",
       "    </tr>\n",
       "    <tr>\n",
       "      <th>79</th>\n",
       "      <td>Persistence Landscapes</td>\n",
       "      <td>70</td>\n",
       "      <td>1.826922</td>\n",
       "      <td>3</td>\n",
       "      <td>50.0</td>\n",
       "    </tr>\n",
       "    <tr>\n",
       "      <th>82</th>\n",
       "      <td>Persistence Landscapes</td>\n",
       "      <td>70</td>\n",
       "      <td>2.122673</td>\n",
       "      <td>3</td>\n",
       "      <td>100.0</td>\n",
       "    </tr>\n",
       "    <tr>\n",
       "      <th>87</th>\n",
       "      <td>Persistence Landscapes</td>\n",
       "      <td>70</td>\n",
       "      <td>2.058078</td>\n",
       "      <td>4</td>\n",
       "      <td>25.0</td>\n",
       "    </tr>\n",
       "    <tr>\n",
       "      <th>90</th>\n",
       "      <td>Persistence Landscapes</td>\n",
       "      <td>70</td>\n",
       "      <td>1.928378</td>\n",
       "      <td>4</td>\n",
       "      <td>50.0</td>\n",
       "    </tr>\n",
       "    <tr>\n",
       "      <th>93</th>\n",
       "      <td>Persistence Landscapes</td>\n",
       "      <td>70</td>\n",
       "      <td>1.752559</td>\n",
       "      <td>4</td>\n",
       "      <td>100.0</td>\n",
       "    </tr>\n",
       "    <tr>\n",
       "      <th>98</th>\n",
       "      <td>Persistence Landscapes</td>\n",
       "      <td>70</td>\n",
       "      <td>1.759196</td>\n",
       "      <td>5</td>\n",
       "      <td>25.0</td>\n",
       "    </tr>\n",
       "    <tr>\n",
       "      <th>101</th>\n",
       "      <td>Persistence Landscapes</td>\n",
       "      <td>70</td>\n",
       "      <td>1.805227</td>\n",
       "      <td>5</td>\n",
       "      <td>50.0</td>\n",
       "    </tr>\n",
       "    <tr>\n",
       "      <th>104</th>\n",
       "      <td>Persistence Landscapes</td>\n",
       "      <td>70</td>\n",
       "      <td>1.815226</td>\n",
       "      <td>5</td>\n",
       "      <td>100.0</td>\n",
       "    </tr>\n",
       "  </tbody>\n",
       "</table>\n",
       "</div>"
      ],
      "text/plain": [
       "                     method  number_of_data_points    timing p1     p2\n",
       "6    Persistence Landscapes                    210  5.345872  3   25.0\n",
       "9    Persistence Landscapes                    210  5.633748  3   50.0\n",
       "12   Persistence Landscapes                    210  5.743177  3  100.0\n",
       "17   Persistence Landscapes                    210  5.619769  4   25.0\n",
       "20   Persistence Landscapes                    210  5.418633  4   50.0\n",
       "23   Persistence Landscapes                    210  5.559416  4  100.0\n",
       "28   Persistence Landscapes                    210  5.803962  5   25.0\n",
       "31   Persistence Landscapes                    210  5.288323  5   50.0\n",
       "34   Persistence Landscapes                    210  5.546337  5  100.0\n",
       "41   Persistence Landscapes                    140  3.645015  3   25.0\n",
       "44   Persistence Landscapes                    140  3.755797  3   50.0\n",
       "47   Persistence Landscapes                    140  3.800806  3  100.0\n",
       "52   Persistence Landscapes                    140  3.604632  4   25.0\n",
       "55   Persistence Landscapes                    140  3.686597  4   50.0\n",
       "58   Persistence Landscapes                    140  3.663844  4  100.0\n",
       "63   Persistence Landscapes                    140  3.554819  5   25.0\n",
       "66   Persistence Landscapes                    140  3.609587  5   50.0\n",
       "69   Persistence Landscapes                    140  3.729589  5  100.0\n",
       "76   Persistence Landscapes                     70  1.766012  3   25.0\n",
       "79   Persistence Landscapes                     70  1.826922  3   50.0\n",
       "82   Persistence Landscapes                     70  2.122673  3  100.0\n",
       "87   Persistence Landscapes                     70  2.058078  4   25.0\n",
       "90   Persistence Landscapes                     70  1.928378  4   50.0\n",
       "93   Persistence Landscapes                     70  1.752559  4  100.0\n",
       "98   Persistence Landscapes                     70  1.759196  5   25.0\n",
       "101  Persistence Landscapes                     70  1.805227  5   50.0\n",
       "104  Persistence Landscapes                     70  1.815226  5  100.0"
      ]
     },
     "execution_count": 186,
     "metadata": {},
     "output_type": "execute_result"
    }
   ],
   "source": [
    "pl"
   ]
  },
  {
   "cell_type": "code",
   "execution_count": null,
   "metadata": {},
   "outputs": [],
   "source": []
  }
 ],
 "metadata": {
  "kernelspec": {
   "display_name": "mlp_kernel",
   "language": "python",
   "name": "mlp_kernel"
  },
  "language_info": {
   "codemirror_mode": {
    "name": "ipython",
    "version": 3
   },
   "file_extension": ".py",
   "mimetype": "text/x-python",
   "name": "python",
   "nbconvert_exporter": "python",
   "pygments_lexer": "ipython3",
   "version": "3.7.6"
  }
 },
 "nbformat": 4,
 "nbformat_minor": 4
}
